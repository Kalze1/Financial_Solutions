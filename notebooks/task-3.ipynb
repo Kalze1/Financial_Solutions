{
 "cells": [
  {
   "cell_type": "code",
   "execution_count": 2,
   "metadata": {},
   "outputs": [],
   "source": [
    "import pandas as pd"
   ]
  },
  {
   "cell_type": "code",
   "execution_count": 3,
   "metadata": {},
   "outputs": [],
   "source": [
    "import os\n",
    "os.chdir(\"../\")"
   ]
  },
  {
   "cell_type": "code",
   "execution_count": 4,
   "metadata": {},
   "outputs": [],
   "source": [
    "from scripts.load_data import load_data, format_date\n",
    "\n",
    "df_news = load_data(\"News\")\n",
    "df_news = format_date(df_news,'%Y-%m-%d')\n",
    "df_TSLA = load_data('APPL')\n"
   ]
  },
  {
   "cell_type": "code",
   "execution_count": 5,
   "metadata": {},
   "outputs": [
    {
     "name": "stdout",
     "output_type": "stream",
     "text": [
      "                      mean_sentiment_score  stock_price_change\n",
      "mean_sentiment_score              1.000000            0.118381\n",
      "stock_price_change                0.118381            1.000000\n"
     ]
    }
   ],
   "source": [
    "from scripts.correlation import calculate_correlation\n",
    "correlation = calculate_correlation(df_news, df_TSLA)\n",
    "print(correlation)"
   ]
  }
 ],
 "metadata": {
  "kernelspec": {
   "display_name": "Python 3",
   "language": "python",
   "name": "python3"
  },
  "language_info": {
   "codemirror_mode": {
    "name": "ipython",
    "version": 3
   },
   "file_extension": ".py",
   "mimetype": "text/x-python",
   "name": "python",
   "nbconvert_exporter": "python",
   "pygments_lexer": "ipython3",
   "version": "3.12.5"
  }
 },
 "nbformat": 4,
 "nbformat_minor": 2
}
