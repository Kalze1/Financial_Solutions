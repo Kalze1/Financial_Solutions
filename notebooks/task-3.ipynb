{
 "cells": [
  {
   "cell_type": "code",
   "execution_count": 1,
   "metadata": {},
   "outputs": [],
   "source": [
    "import pandas as pd"
   ]
  },
  {
   "cell_type": "code",
   "execution_count": 2,
   "metadata": {},
   "outputs": [],
   "source": [
    "import os\n",
    "os.chdir(\"../\")"
   ]
  },
  {
   "cell_type": "code",
   "execution_count": 10,
   "metadata": {},
   "outputs": [],
   "source": [
    "path_AAPL = \"Data/yfinance_data/AAPL_historical_data.csv\"\n",
    "path_TSLA = \"Data/yfinance_data/TSLA_historical_data.csv\"\n",
    "path_news = \"Data/raw_analyst_ratings.csv\""
   ]
  },
  {
   "cell_type": "code",
   "execution_count": 12,
   "metadata": {},
   "outputs": [],
   "source": [
    "df_news = pd.read_csv(path_news, parse_dates=['date'])"
   ]
  },
  {
   "cell_type": "code",
   "execution_count": 15,
   "metadata": {},
   "outputs": [],
   "source": [
    "df_news['date'] = pd.to_datetime(df_news['date'].str.split().str[0])  # Assuming space as delimiter\n"
   ]
  },
  {
   "cell_type": "code",
   "execution_count": 16,
   "metadata": {},
   "outputs": [],
   "source": [
    "df_news['date'] = df_news['date'].dt.strftime('%Y-%m-%d')"
   ]
  },
  {
   "cell_type": "code",
   "execution_count": 19,
   "metadata": {},
   "outputs": [
    {
     "name": "stdout",
     "output_type": "stream",
     "text": [
      "0     2020-06-05\n",
      "1     2020-06-03\n",
      "2     2020-05-26\n",
      "3     2020-05-22\n",
      "4     2020-05-22\n",
      "         ...    \n",
      "95    2019-10-09\n",
      "96    2019-10-08\n",
      "97    2019-10-02\n",
      "98    2019-09-05\n",
      "99    2019-09-03\n",
      "Name: date, Length: 100, dtype: object\n"
     ]
    }
   ],
   "source": [
    "print(df_news['date'].head(100))"
   ]
  },
  {
   "cell_type": "code",
   "execution_count": 7,
   "metadata": {},
   "outputs": [],
   "source": [
    "# Load the data\n",
    "df_TSLA = pd.read_csv(path_TSLA, parse_dates=['Date'])\n",
    "\n"
   ]
  },
  {
   "cell_type": "code",
   "execution_count": 8,
   "metadata": {},
   "outputs": [
    {
     "name": "stdout",
     "output_type": "stream",
     "text": [
      "        Date      Open      High       Low     Close  Adj Close     Volume  \\\n",
      "0 2010-06-29  1.266667  1.666667  1.169333  1.592667   1.592667  281494500   \n",
      "1 2010-06-30  1.719333  2.028000  1.553333  1.588667   1.588667  257806500   \n",
      "2 2010-07-01  1.666667  1.728000  1.351333  1.464000   1.464000  123282000   \n",
      "3 2010-07-02  1.533333  1.540000  1.247333  1.280000   1.280000   77097000   \n",
      "4 2010-07-06  1.333333  1.333333  1.055333  1.074000   1.074000  103003500   \n",
      "5 2010-07-07  1.093333  1.108667  0.998667  1.053333   1.053333  103825500   \n",
      "6 2010-07-08  1.076000  1.168000  1.038000  1.164000   1.164000  115671000   \n",
      "7 2010-07-09  1.172000  1.193333  1.103333  1.160000   1.160000   60759000   \n",
      "8 2010-07-12  1.196667  1.204667  1.133333  1.136667   1.136667   33037500   \n",
      "9 2010-07-13  1.159333  1.242667  1.126667  1.209333   1.209333   40201500   \n",
      "\n",
      "   Dividends  Stock Splits  \n",
      "0        0.0           0.0  \n",
      "1        0.0           0.0  \n",
      "2        0.0           0.0  \n",
      "3        0.0           0.0  \n",
      "4        0.0           0.0  \n",
      "5        0.0           0.0  \n",
      "6        0.0           0.0  \n",
      "7        0.0           0.0  \n",
      "8        0.0           0.0  \n",
      "9        0.0           0.0  \n"
     ]
    }
   ],
   "source": [
    "# Display the first few rows\n",
    "print(df_TSLA.head(10))    "
   ]
  }
 ],
 "metadata": {
  "kernelspec": {
   "display_name": "Python 3",
   "language": "python",
   "name": "python3"
  },
  "language_info": {
   "codemirror_mode": {
    "name": "ipython",
    "version": 3
   },
   "file_extension": ".py",
   "mimetype": "text/x-python",
   "name": "python",
   "nbconvert_exporter": "python",
   "pygments_lexer": "ipython3",
   "version": "3.12.5"
  }
 },
 "nbformat": 4,
 "nbformat_minor": 2
}
